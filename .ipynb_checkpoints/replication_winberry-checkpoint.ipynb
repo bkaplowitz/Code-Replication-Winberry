{
 "cells": [
  {
   "cell_type": "code",
   "execution_count": 2,
   "metadata": {},
   "outputs": [],
   "source": [
    "import create_grids"
   ]
  },
  {
   "cell_type": "markdown",
   "metadata": {},
   "source": [
    "The calibration portion of the replication exercise heavily follows Winberry 2020"
   ]
  },
  {
   "cell_type": "markdown",
   "metadata": {},
   "source": [
    "First we set the model parameters:"
   ]
  },
  {
   "cell_type": "code",
   "execution_count": 3,
   "metadata": {},
   "outputs": [],
   "source": [
    "# from calibrated version of Winberry, 2020\n",
    "\n",
    "# Technology \n",
    "θ = .21 # capital coefficient\n",
    "ν = .64 # labor coefficient\n",
    "δ = .025 # depreciation (annual rate)\n",
    "ρ = .9 # persistence of idiosyncratic income shocks on productivity\n",
    "a̅ = 0 #no fixed cost region upper bound\n",
    "a̲ = -a̅  # no fixed cost region lower bound\n",
    "# Preferences\n",
    "β = .99 # discount rate\n",
    "σ = 1 #curvature on utility func\n",
    "ϕ = 1/2 #adjustment cost for capital\n",
    "N_SS = 1/3  # hours worked in SS\n",
    "χ = 1 #disutility of labor supply \n",
    "η_0 = 0 #weight on past habit\n",
    "# Tax code\n",
    "τ = .35  # linear tax\n",
    "δ̂=  .119 # tax depreciation rate\n",
    "PV = (δ̂/(1-β)*(1-δ̂)) # present value of depreciation allowances\n",
    "\n",
    "# Calibration parameters\n",
    "Params = [0.053187, 0.703137,2.95000, 0.745793]\n",
    "σ_prod = Params[0]\n",
    "ψ_cap =  Params[1]\n",
    "ψ_cap_2 = Params[2]\n",
    "η_1 = Params[3]\n"
   ]
  },
  {
   "cell_type": "markdown",
   "metadata": {},
   "source": [
    "Next we set the parameters that control the approximations (chebyshev and distribution):"
   ]
  },
  {
   "cell_type": "code",
   "execution_count": 13,
   "metadata": {},
   "outputs": [
    {
     "ename": "SyntaxError",
     "evalue": "invalid syntax (<ipython-input-13-8164b24c8b0a>, line 6)",
     "output_type": "error",
     "traceback": [
      "\u001b[0;36m  File \u001b[0;32m\"<ipython-input-13-8164b24c8b0a>\"\u001b[0;36m, line \u001b[0;32m6\u001b[0m\n\u001b[0;31m    hi=4\u001b[0m\n\u001b[0m     ^\u001b[0m\n\u001b[0;31mSyntaxError\u001b[0m\u001b[0;31m:\u001b[0m invalid syntax\n"
     ]
    }
   ],
   "source": [
    "# from calibrated version of Winberry, 2020\n",
    "\n",
    "# Compute RA SS, given N_SS comes from FOC\n",
    "k_rep_SS = ((θ*N_SS**(ν) )/(1/β-(1-δ)))**(1/(1-θ))\n",
    "w_rep_SS = ν*(N_SS**(ν-1)*k_rep_SS**(θ)\n",
    "# Order of approx of the value function (chebyshev series cutoff) \n",
    "approx_n_prod = 3 # order of CE chebyshev poly. approx in productivity\n",
    "approx_n_cap = 5 # order of CE chebyshev poly. approx in capital\n",
    "n_states = approx_n_prod*approx_n_cap # total order of CE chebyshev poly. approx\n",
    "# Grid bounds\n",
    "prod_min = -3*σ_prod/np.sqrt(1-ρ**2) #(-3 s.d. away)\n",
    "prod_max = 3*σ_prod/np.sqrt(1-ρ**2) #(+3 s.d. awy)\n",
    "capital_min = np.max(0, (0.025+ (2/(1+20*ψ_cap_2))*np.exp(-(1/ψ_cap_2))*np.exp((prod_min)**(1/(1-θ)*k_rep_SS) #minimum capital achievable in SS under the worst case parametization\n",
    "capital_max = np.max(capital_min, (2.5- (40/(1+20*ψ_cap_2))*np.exp(-(1/ψ_cap_2)))*np.exp(prod_max)**(1/(1-θ)*k_rep_SS) #maximum capital achievable in SS under parameterization\n",
    "\n",
    "# Shocks\n",
    "n_shocks=3\n",
    "\n",
    "#Finer grid for analyzing policy funcs and histogram properties\n",
    "approx_n_prod_fine = 60\n",
    "approx_n_cap_fine = 150\n",
    "n_states_fine = approx_n_prod_fine*approx_n_cap_fine \n",
    "\n",
    "# Iterations for value function updating\n",
    "max_iter = 100\n",
    "tol = 1e-6\n",
    "howard_iter = 500 # number of iterations in Howard PI step at SS\n",
    "w = 0.5 # weight on old iterations"
   ]
  },
  {
   "cell_type": "code",
   "execution_count": null,
   "metadata": {},
   "outputs": [],
   "source": []
  },
  {
   "cell_type": "code",
   "execution_count": null,
   "metadata": {},
   "outputs": [],
   "source": []
  }
 ],
 "metadata": {
  "kernelspec": {
   "display_name": "Python 3",
   "language": "python",
   "name": "python3"
  },
  "language_info": {
   "codemirror_mode": {
    "name": "ipython",
    "version": 3
   },
   "file_extension": ".py",
   "mimetype": "text/x-python",
   "name": "python",
   "nbconvert_exporter": "python",
   "pygments_lexer": "ipython3",
   "version": "3.7.7"
  }
 },
 "nbformat": 4,
 "nbformat_minor": 4
}
